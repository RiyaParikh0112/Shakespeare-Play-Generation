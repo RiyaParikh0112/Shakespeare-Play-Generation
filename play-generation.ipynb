{
 "cells": [
  {
   "cell_type": "code",
   "execution_count": 1,
   "id": "7a982169",
   "metadata": {
    "execution": {
     "iopub.execute_input": "2022-12-08T07:27:33.460987Z",
     "iopub.status.busy": "2022-12-08T07:27:33.460533Z",
     "iopub.status.idle": "2022-12-08T07:27:39.308621Z",
     "shell.execute_reply": "2022-12-08T07:27:39.307496Z"
    },
    "papermill": {
     "duration": 5.856605,
     "end_time": "2022-12-08T07:27:39.311535",
     "exception": false,
     "start_time": "2022-12-08T07:27:33.454930",
     "status": "completed"
    },
    "tags": []
   },
   "outputs": [],
   "source": [
    "import pandas as pd\n",
    "import numpy as np\n",
    "import matplotlib.pyplot as plt\n",
    "import tensorflow as tf\n",
    "from tensorflow import keras\n",
    "from keras import layers\n",
    "import os\n",
    "import re\n",
    "import string \n",
    "import random"
   ]
  },
  {
   "cell_type": "code",
   "execution_count": 2,
   "id": "abe23c92",
   "metadata": {
    "execution": {
     "iopub.execute_input": "2022-12-08T07:27:39.319620Z",
     "iopub.status.busy": "2022-12-08T07:27:39.318886Z",
     "iopub.status.idle": "2022-12-08T07:27:39.324778Z",
     "shell.execute_reply": "2022-12-08T07:27:39.323677Z"
    },
    "papermill": {
     "duration": 0.012102,
     "end_time": "2022-12-08T07:27:39.326928",
     "exception": false,
     "start_time": "2022-12-08T07:27:39.314826",
     "status": "completed"
    },
    "tags": []
   },
   "outputs": [],
   "source": [
    "class Configuration:\n",
    "    vocab_size = 20000\n",
    "    batch_size = 128\n",
    "    maxlen = 80\n",
    "    embed_dim = 256 \n",
    "    num_heads = 2\n",
    "    feed_forward_dim = 256\n",
    "    num_transformer_blocks = 2"
   ]
  },
  {
   "cell_type": "code",
   "execution_count": 3,
   "id": "788a0c1f",
   "metadata": {
    "execution": {
     "iopub.execute_input": "2022-12-08T07:27:39.333711Z",
     "iopub.status.busy": "2022-12-08T07:27:39.332969Z",
     "iopub.status.idle": "2022-12-08T07:27:39.667069Z",
     "shell.execute_reply": "2022-12-08T07:27:39.666064Z"
    },
    "papermill": {
     "duration": 0.339973,
     "end_time": "2022-12-08T07:27:39.669508",
     "exception": false,
     "start_time": "2022-12-08T07:27:39.329535",
     "status": "completed"
    },
    "tags": []
   },
   "outputs": [
    {
     "data": {
      "text/plain": [
       "111396"
      ]
     },
     "execution_count": 3,
     "metadata": {},
     "output_type": "execute_result"
    }
   ],
   "source": [
    "data = pd.read_csv('../input/shakespeare-plays/Shakespeare_data.csv')\n",
    "data.head()\n",
    "len(data)\n"
   ]
  },
  {
   "cell_type": "code",
   "execution_count": 4,
   "id": "0a3eb3e5",
   "metadata": {
    "execution": {
     "iopub.execute_input": "2022-12-08T07:27:39.677589Z",
     "iopub.status.busy": "2022-12-08T07:27:39.676208Z",
     "iopub.status.idle": "2022-12-08T07:27:39.696854Z",
     "shell.execute_reply": "2022-12-08T07:27:39.695827Z"
    },
    "papermill": {
     "duration": 0.026828,
     "end_time": "2022-12-08T07:27:39.699213",
     "exception": false,
     "start_time": "2022-12-08T07:27:39.672385",
     "status": "completed"
    },
    "tags": []
   },
   "outputs": [],
   "source": [
    "dialogue = list(data['PlayerLine'])\n"
   ]
  },
  {
   "cell_type": "code",
   "execution_count": 5,
   "id": "3d137c34",
   "metadata": {
    "execution": {
     "iopub.execute_input": "2022-12-08T07:27:39.706586Z",
     "iopub.status.busy": "2022-12-08T07:27:39.705766Z",
     "iopub.status.idle": "2022-12-08T07:27:43.664199Z",
     "shell.execute_reply": "2022-12-08T07:27:43.662981Z"
    },
    "papermill": {
     "duration": 3.964925,
     "end_time": "2022-12-08T07:27:43.666908",
     "exception": false,
     "start_time": "2022-12-08T07:27:39.701983",
     "status": "completed"
    },
    "tags": []
   },
   "outputs": [],
   "source": [
    "#tokenize words\n",
    "tokenizer = tf.keras.preprocessing.text.Tokenizer(num_words= Configuration.vocab_size - 1)\n",
    "tokenizer.fit_on_texts(dialogue)\n",
    "sequence = tokenizer.texts_to_sequences(dialogue)\n",
    "sequence = keras.preprocessing.sequence.pad_sequences(sequence,maxlen=Configuration.maxlen +1, padding = 'post')\n",
    "#truncate all sequences greater than maxlen"
   ]
  },
  {
   "cell_type": "markdown",
   "id": "e0a56583",
   "metadata": {
    "papermill": {
     "duration": 0.002317,
     "end_time": "2022-12-08T07:27:43.672011",
     "exception": false,
     "start_time": "2022-12-08T07:27:43.669694",
     "status": "completed"
    },
    "tags": []
   },
   "source": [
    "Model Building"
   ]
  },
  {
   "cell_type": "code",
   "execution_count": null,
   "id": "42aa9b95",
   "metadata": {
    "papermill": {
     "duration": 0.002246,
     "end_time": "2022-12-08T07:27:43.676772",
     "exception": false,
     "start_time": "2022-12-08T07:27:43.674526",
     "status": "completed"
    },
    "tags": []
   },
   "outputs": [],
   "source": []
  }
 ],
 "metadata": {
  "kernelspec": {
   "display_name": "Python 3",
   "language": "python",
   "name": "python3"
  },
  "language_info": {
   "codemirror_mode": {
    "name": "ipython",
    "version": 3
   },
   "file_extension": ".py",
   "mimetype": "text/x-python",
   "name": "python",
   "nbconvert_exporter": "python",
   "pygments_lexer": "ipython3",
   "version": "3.7.12"
  },
  "papermill": {
   "default_parameters": {},
   "duration": 22.130042,
   "end_time": "2022-12-08T07:27:47.274436",
   "environment_variables": {},
   "exception": null,
   "input_path": "__notebook__.ipynb",
   "output_path": "__notebook__.ipynb",
   "parameters": {},
   "start_time": "2022-12-08T07:27:25.144394",
   "version": "2.3.4"
  }
 },
 "nbformat": 4,
 "nbformat_minor": 5
}
